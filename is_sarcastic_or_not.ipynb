{
  "nbformat": 4,
  "nbformat_minor": 0,
  "metadata": {
    "accelerator": "GPU",
    "colab": {
      "name": "C3_12_LSTM_sarcasm.ipynb",
      "provenance": [],
      "collapsed_sections": [],
      "toc_visible": true,
      "include_colab_link": true
    },
    "kernelspec": {
      "display_name": "Python 3",
      "language": "python",
      "name": "python3"
    },
    "language_info": {
      "codemirror_mode": {
        "name": "ipython",
        "version": 3
      },
      "file_extension": ".py",
      "mimetype": "text/x-python",
      "name": "python",
      "nbconvert_exporter": "python",
      "pygments_lexer": "ipython3",
      "version": "3.7.6"
    }
  },
  "cells": [
    {
      "cell_type": "markdown",
      "metadata": {
        "id": "view-in-github",
        "colab_type": "text"
      },
      "source": [
        "<a href=\"https://colab.research.google.com/github/Ankityadav98/Sarcasm-detection/blob/master/is_sarcastic_or_not.ipynb\" target=\"_parent\"><img src=\"https://colab.research.google.com/assets/colab-badge.svg\" alt=\"Open In Colab\"/></a>"
      ]
    },
    {
      "cell_type": "code",
      "metadata": {
        "id": "wo76EK4YNnpa",
        "colab_type": "code",
        "colab": {
          "base_uri": "https://localhost:8080/",
          "height": 202
        },
        "outputId": "d195fbdc-aa28-4188-f3c8-a91d56b32dc0"
      },
      "source": [
        "import numpy as np\n",
        "\n",
        "import json\n",
        "import tensorflow as tf\n",
        "\n",
        "from tensorflow.keras.preprocessing.text import Tokenizer\n",
        "from tensorflow.keras.preprocessing.sequence import pad_sequences\n",
        "\n",
        "!wget --no-check-certificate \\\n",
        "    https://storage.googleapis.com/laurencemoroney-blog.appspot.com/sarcasm.json \\\n",
        "    -O /tmp/sarcasm.json"
      ],
      "execution_count": 1,
      "outputs": [
        {
          "output_type": "stream",
          "text": [
            "--2020-07-11 14:26:03--  https://storage.googleapis.com/laurencemoroney-blog.appspot.com/sarcasm.json\n",
            "Resolving storage.googleapis.com (storage.googleapis.com)... 108.177.97.128, 108.177.125.128, 74.125.204.128, ...\n",
            "Connecting to storage.googleapis.com (storage.googleapis.com)|108.177.97.128|:443... connected.\n",
            "HTTP request sent, awaiting response... 200 OK\n",
            "Length: 5643545 (5.4M) [application/json]\n",
            "Saving to: ‘/tmp/sarcasm.json’\n",
            "\n",
            "\r/tmp/sarcasm.json     0%[                    ]       0  --.-KB/s               \r/tmp/sarcasm.json    74%[=============>      ]   4.01M  13.9MB/s               \r/tmp/sarcasm.json   100%[===================>]   5.38M  18.2MB/s    in 0.3s    \n",
            "\n",
            "2020-07-11 14:26:03 (18.2 MB/s) - ‘/tmp/sarcasm.json’ saved [5643545/5643545]\n",
            "\n"
          ],
          "name": "stdout"
        }
      ]
    },
    {
      "cell_type": "code",
      "metadata": {
        "id": "HHG_LVKKNrZV",
        "colab_type": "code",
        "colab": {}
      },
      "source": [
        "vocab_size = 1000\n",
        "embedding_dim = 16\n",
        "max_length = 120\n",
        "trunc_type='post'\n",
        "padding_type='post'\n",
        "oov_tok = \"<OOV>\"\n",
        "training_size = 20000\n",
        "\n",
        "with open(\"/tmp/sarcasm.json\", 'r') as f:\n",
        "    datastore = json.load(f)\n",
        "\n",
        "sentences = []\n",
        "labels = []\n",
        "for item in datastore:\n",
        "    sentences.append(item['headline'])\n",
        "    labels.append(item['is_sarcastic'])"
      ],
      "execution_count": 2,
      "outputs": []
    },
    {
      "cell_type": "code",
      "metadata": {
        "id": "EwYCrqhGN2fX",
        "colab_type": "code",
        "colab": {}
      },
      "source": [
        "training_sentences = sentences[0:training_size]\n",
        "testing_sentences = sentences[training_size:]\n",
        "training_labels = labels[0:training_size]\n",
        "testing_labels = labels[training_size:]\n",
        "\n",
        "tokenizer = Tokenizer(num_words=vocab_size, oov_token=oov_tok)\n",
        "tokenizer.fit_on_texts(training_sentences)\n",
        "\n",
        "word_index = tokenizer.word_index"
      ],
      "execution_count": 3,
      "outputs": []
    },
    {
      "cell_type": "code",
      "metadata": {
        "id": "z19CCy2-N5yy",
        "colab_type": "code",
        "colab": {}
      },
      "source": [
        "training_sequences = tokenizer.texts_to_sequences(training_sentences)\n",
        "training_padded = pad_sequences(training_sequences, maxlen=max_length, padding=padding_type, truncating=trunc_type)\n",
        "\n",
        "testing_sequences = tokenizer.texts_to_sequences(testing_sentences)\n",
        "testing_padded = pad_sequences(testing_sequences, maxlen=max_length, padding=padding_type, truncating=trunc_type)"
      ],
      "execution_count": 4,
      "outputs": []
    },
    {
      "cell_type": "code",
      "metadata": {
        "id": "b6h2_7B-N8MF",
        "colab_type": "code",
        "colab": {
          "base_uri": "https://localhost:8080/",
          "height": 319
        },
        "outputId": "2583aedb-c420-4a12-c5b9-2dc4b30c1d5e"
      },
      "source": [
        "model = tf.keras.Sequential([\n",
        "    tf.keras.layers.Embedding(vocab_size, embedding_dim, input_length=max_length),\n",
        "    tf.keras.layers.Dropout(0.4),\n",
        "    tf.keras.layers.Bidirectional(tf.keras.layers.LSTM(64)),\n",
        "    tf.keras.layers.Dense(32, activation='relu'),\n",
        "    tf.keras.layers.Dense(1, activation='sigmoid')\n",
        "])\n",
        "model.compile(loss='binary_crossentropy',optimizer='adam',metrics=['accuracy'])\n",
        "model.summary()"
      ],
      "execution_count": 6,
      "outputs": [
        {
          "output_type": "stream",
          "text": [
            "Model: \"sequential\"\n",
            "_________________________________________________________________\n",
            "Layer (type)                 Output Shape              Param #   \n",
            "=================================================================\n",
            "embedding (Embedding)        (None, 120, 16)           16000     \n",
            "_________________________________________________________________\n",
            "dropout (Dropout)            (None, 120, 16)           0         \n",
            "_________________________________________________________________\n",
            "bidirectional (Bidirectional (None, 128)               41472     \n",
            "_________________________________________________________________\n",
            "dense (Dense)                (None, 32)                4128      \n",
            "_________________________________________________________________\n",
            "dense_1 (Dense)              (None, 1)                 33        \n",
            "=================================================================\n",
            "Total params: 61,633\n",
            "Trainable params: 61,633\n",
            "Non-trainable params: 0\n",
            "_________________________________________________________________\n"
          ],
          "name": "stdout"
        }
      ]
    },
    {
      "cell_type": "code",
      "metadata": {
        "id": "vyr6j3mvOBaz",
        "colab_type": "code",
        "colab": {}
      },
      "source": [
        "num_epochs = 30\n",
        "training_padded = np.array(training_padded)\n",
        "training_labels = np.array(training_labels)\n",
        "testing_padded = np.array(testing_padded)\n",
        "testing_labels = np.array(testing_labels)"
      ],
      "execution_count": 7,
      "outputs": []
    },
    {
      "cell_type": "code",
      "metadata": {
        "colab_type": "code",
        "id": "jGwXGIXvFhXW",
        "colab": {
          "base_uri": "https://localhost:8080/",
          "height": 1000
        },
        "outputId": "0ae1cc8d-95dc-427e-8ab5-726cb29892aa"
      },
      "source": [
        "history = model.fit(training_padded, training_labels, epochs=num_epochs, validation_data=(testing_padded, testing_labels), verbose=1)"
      ],
      "execution_count": 8,
      "outputs": [
        {
          "output_type": "stream",
          "text": [
            "Epoch 1/30\n",
            "625/625 [==============================] - 41s 65ms/step - loss: 0.4630 - accuracy: 0.7621 - val_loss: 0.3860 - val_accuracy: 0.8183\n",
            "Epoch 2/30\n",
            "625/625 [==============================] - 40s 64ms/step - loss: 0.3710 - accuracy: 0.8309 - val_loss: 0.3806 - val_accuracy: 0.8223\n",
            "Epoch 3/30\n",
            "625/625 [==============================] - 40s 64ms/step - loss: 0.3505 - accuracy: 0.8396 - val_loss: 0.3698 - val_accuracy: 0.8278\n",
            "Epoch 4/30\n",
            "625/625 [==============================] - 40s 64ms/step - loss: 0.3387 - accuracy: 0.8473 - val_loss: 0.3802 - val_accuracy: 0.8286\n",
            "Epoch 5/30\n",
            "625/625 [==============================] - 40s 63ms/step - loss: 0.3271 - accuracy: 0.8548 - val_loss: 0.3737 - val_accuracy: 0.8320\n",
            "Epoch 6/30\n",
            "625/625 [==============================] - 40s 63ms/step - loss: 0.3168 - accuracy: 0.8547 - val_loss: 0.3683 - val_accuracy: 0.8326\n",
            "Epoch 7/30\n",
            "625/625 [==============================] - 40s 64ms/step - loss: 0.3117 - accuracy: 0.8616 - val_loss: 0.3774 - val_accuracy: 0.8350\n",
            "Epoch 8/30\n",
            "625/625 [==============================] - 40s 64ms/step - loss: 0.3082 - accuracy: 0.8646 - val_loss: 0.3680 - val_accuracy: 0.8341\n",
            "Epoch 9/30\n",
            "625/625 [==============================] - 40s 64ms/step - loss: 0.3018 - accuracy: 0.8680 - val_loss: 0.3675 - val_accuracy: 0.8320\n",
            "Epoch 10/30\n",
            "625/625 [==============================] - 40s 64ms/step - loss: 0.2930 - accuracy: 0.8693 - val_loss: 0.3670 - val_accuracy: 0.8354\n",
            "Epoch 11/30\n",
            "625/625 [==============================] - 40s 64ms/step - loss: 0.2935 - accuracy: 0.8705 - val_loss: 0.3661 - val_accuracy: 0.8335\n",
            "Epoch 12/30\n",
            "625/625 [==============================] - 40s 64ms/step - loss: 0.2863 - accuracy: 0.8738 - val_loss: 0.3716 - val_accuracy: 0.8322\n",
            "Epoch 13/30\n",
            "625/625 [==============================] - 40s 64ms/step - loss: 0.2856 - accuracy: 0.8748 - val_loss: 0.3802 - val_accuracy: 0.8325\n",
            "Epoch 14/30\n",
            "625/625 [==============================] - 40s 64ms/step - loss: 0.2816 - accuracy: 0.8795 - val_loss: 0.3748 - val_accuracy: 0.8337\n",
            "Epoch 15/30\n",
            "625/625 [==============================] - 40s 64ms/step - loss: 0.2787 - accuracy: 0.8777 - val_loss: 0.3758 - val_accuracy: 0.8298\n",
            "Epoch 16/30\n",
            "625/625 [==============================] - 40s 64ms/step - loss: 0.2750 - accuracy: 0.8805 - val_loss: 0.3918 - val_accuracy: 0.8322\n",
            "Epoch 17/30\n",
            "625/625 [==============================] - 40s 64ms/step - loss: 0.2747 - accuracy: 0.8838 - val_loss: 0.3815 - val_accuracy: 0.8304\n",
            "Epoch 18/30\n",
            "625/625 [==============================] - 40s 64ms/step - loss: 0.2706 - accuracy: 0.8820 - val_loss: 0.3824 - val_accuracy: 0.8316\n",
            "Epoch 19/30\n",
            "625/625 [==============================] - 40s 64ms/step - loss: 0.2685 - accuracy: 0.8826 - val_loss: 0.3845 - val_accuracy: 0.8319\n",
            "Epoch 20/30\n",
            "625/625 [==============================] - 40s 64ms/step - loss: 0.2634 - accuracy: 0.8851 - val_loss: 0.3878 - val_accuracy: 0.8313\n",
            "Epoch 21/30\n",
            "625/625 [==============================] - 40s 64ms/step - loss: 0.2640 - accuracy: 0.8830 - val_loss: 0.3939 - val_accuracy: 0.8304\n",
            "Epoch 22/30\n",
            "625/625 [==============================] - 40s 64ms/step - loss: 0.2635 - accuracy: 0.8834 - val_loss: 0.3890 - val_accuracy: 0.8299\n",
            "Epoch 23/30\n",
            "625/625 [==============================] - 40s 64ms/step - loss: 0.2610 - accuracy: 0.8857 - val_loss: 0.3942 - val_accuracy: 0.8334\n",
            "Epoch 24/30\n",
            "625/625 [==============================] - 40s 64ms/step - loss: 0.2593 - accuracy: 0.8873 - val_loss: 0.3929 - val_accuracy: 0.8252\n",
            "Epoch 25/30\n",
            "625/625 [==============================] - 40s 64ms/step - loss: 0.2567 - accuracy: 0.8875 - val_loss: 0.3976 - val_accuracy: 0.8299\n",
            "Epoch 26/30\n",
            "625/625 [==============================] - 40s 64ms/step - loss: 0.2526 - accuracy: 0.8883 - val_loss: 0.3954 - val_accuracy: 0.8317\n",
            "Epoch 27/30\n",
            "625/625 [==============================] - 40s 64ms/step - loss: 0.2513 - accuracy: 0.8909 - val_loss: 0.4036 - val_accuracy: 0.8296\n",
            "Epoch 28/30\n",
            "625/625 [==============================] - 40s 64ms/step - loss: 0.2471 - accuracy: 0.8911 - val_loss: 0.3977 - val_accuracy: 0.8295\n",
            "Epoch 29/30\n",
            "625/625 [==============================] - 40s 64ms/step - loss: 0.2495 - accuracy: 0.8903 - val_loss: 0.4010 - val_accuracy: 0.8244\n",
            "Epoch 30/30\n",
            "625/625 [==============================] - 40s 64ms/step - loss: 0.2449 - accuracy: 0.8917 - val_loss: 0.4055 - val_accuracy: 0.8223\n"
          ],
          "name": "stdout"
        }
      ]
    },
    {
      "cell_type": "code",
      "metadata": {
        "colab_type": "code",
        "id": "g9DC6dmLF8DC",
        "colab": {
          "base_uri": "https://localhost:8080/",
          "height": 541
        },
        "outputId": "c7ef9bdc-49be-4116-a3b5-d2d30a15c2c9"
      },
      "source": [
        "import matplotlib.pyplot as plt\n",
        "\n",
        "def plot_graphs(history, string):\n",
        "  plt.plot(history.history[string])\n",
        "  plt.plot(history.history['val_'+string])\n",
        "  plt.xlabel(\"Epochs\")\n",
        "  plt.ylabel(string)\n",
        "  plt.legend([string, 'val_'+string])\n",
        "  plt.show()\n",
        "\n",
        "plot_graphs(history, 'accuracy')\n",
        "plot_graphs(history, 'loss')"
      ],
      "execution_count": 9,
      "outputs": [
        {
          "output_type": "display_data",
          "data": {
            "image/png": "[encoded data removed]",
            "text/plain": [
              "<Figure size 432x288 with 1 Axes>"
            ]
          },
          "metadata": {
            "tags": [],
            "needs_background": "light"
          }
        },
        {
          "output_type": "display_data",
          "data": {
            "image/png": "[encoded data removed]",
            "text/plain": [
              "<Figure size 432x288 with 1 Axes>"
            ]
          },
          "metadata": {
            "tags": [],
            "needs_background": "light"
          }
        }
      ]
    },
    {
      "cell_type": "code",
      "metadata": {
        "colab_type": "code",
        "id": "7ZEZIUppGhdi",
        "colab": {}
      },
      "source": [
        "model.save(\"test.h5\")"
      ],
      "execution_count": 10,
      "outputs": []
    },
    {
      "cell_type": "code",
      "metadata": {
        "id": "t92tnBuTW0iE",
        "colab_type": "code",
        "colab": {}
      },
      "source": [
        ""
      ],
      "execution_count": null,
      "outputs": []
    }
  ]
}